{
 "cells": [
  {
   "cell_type": "code",
   "execution_count": 2,
   "metadata": {},
   "outputs": [
    {
     "name": "stdout",
     "output_type": "stream",
     "text": [
      "unicast class A\n"
     ]
    }
   ],
   "source": [
    "#6.2\n",
    "ip_address = input(\"Enter an IP address (e.g., 10.0.1.1): \")\n",
    "\n",
    "# Split the IP address into octets\n",
    "octets = ip_address.split(\".\")\n",
    "\n",
    "# Convert octets to integers\n",
    "first_octet = int(octets[0])\n",
    "\n",
    "# Determine the type of IP address\n",
    "if ip_address == \"255.255.255.255\":\n",
    "        print(\"local broadcast\")\n",
    "elif ip_address == \"0.0.0.0\":\n",
    "        print(\"unassigned\")\n",
    "elif 1 <= first_octet <= 126:\n",
    "        print(\"unicast class A\")\n",
    "elif 128 <= first_octet <= 191:\n",
    "        print(\"unicast class B\")\n",
    "elif 192 <= first_octet <= 223:\n",
    "        print(\"unicast class C\")\n",
    "elif 224 <= first_octet <= 239:\n",
    "        print(\"multicast\")\n",
    "else:\n",
    "        print(\"unused\") "
   ]
  },
  {
   "cell_type": "code",
   "execution_count": 3,
   "metadata": {},
   "outputs": [
    {
     "name": "stdout",
     "output_type": "stream",
     "text": [
      "multicast\n"
     ]
    }
   ],
   "source": [
    "#6.2a\n",
    "ip_address = input(\"Enter an IP address (e.g., 10.0.1.1): \")\n",
    "\n",
    "# Split the IP address into octets\n",
    "octets = ip_address.split(\".\")\n",
    "\n",
    "# Check if the IP address has exactly 4 octets\n",
    "if len(octets) != 4:\n",
    "    print(\"Invalid IP address\")\n",
    "else:\n",
    "    # Check if all octets are valid integers in the range from 0 to 255\n",
    "    for octet in octets:\n",
    "        if not octet.isdigit() or not (0 <= int(octet) <= 255):\n",
    "            print(\"Invalid IP address\")\n",
    "            break\n",
    "    else:\n",
    "        # Convert octets to integers\n",
    "        first_octet = int(octets[0])\n",
    "\n",
    "        # Determine the type of IP address\n",
    "        if ip_address == \"255.255.255.255\":\n",
    "            print(\"local broadcast\")\n",
    "        elif ip_address == \"0.0.0.0\":\n",
    "            print(\"unassigned\")\n",
    "        elif 1 <= first_octet <= 126:\n",
    "            print(\"unicast class A\")\n",
    "        elif 128 <= first_octet <= 191:\n",
    "            print(\"unicast class B\")\n",
    "        elif 192 <= first_octet <= 223:\n",
    "            print(\"unicast class C\")\n",
    "        elif 224 <= first_octet <= 239:\n",
    "            print(\"multicast\")\n",
    "        else:\n",
    "            print(\"unused\")"
   ]
  },
  {
   "cell_type": "code",
   "execution_count": 5,
   "metadata": {},
   "outputs": [
    {
     "name": "stdout",
     "output_type": "stream",
     "text": [
      "unassigned\n"
     ]
    }
   ],
   "source": [
    "#6.2b\n",
    "while True:\n",
    "    ip_address = input(\"Enter an IP address (e.g., 10.0.1.1): \")\n",
    "    \n",
    "    # Split the IP address into octets\n",
    "    octets = ip_address.split(\".\")\n",
    "    \n",
    "    # Check if the IP address has exactly 4 octets\n",
    "    if len(octets) != 4:\n",
    "        print(\"Invalid IP address\")\n",
    "        continue\n",
    "    \n",
    "    # Check if all octets are valid integers in the range from 0 to 255\n",
    "    for octet in octets:\n",
    "        if not octet.isdigit() or not (0 <= int(octet) <= 255):\n",
    "            print(\"Invalid IP address\")\n",
    "            break\n",
    "    else:\n",
    "        # Convert octets to integers\n",
    "        first_octet = int(octets[0])\n",
    "        \n",
    "        # Determine the type of IP address\n",
    "        if ip_address == \"255.255.255.255\":\n",
    "            print(\"local broadcast\")\n",
    "        elif ip_address == \"0.0.0.0\":\n",
    "            print(\"unassigned\")\n",
    "        elif 1 <= first_octet <= 126:\n",
    "            print(\"unicast class A\")\n",
    "        elif 128 <= first_octet <= 191:\n",
    "            print(\"unicast class B\")\n",
    "        elif 192 <= first_octet <= 223:\n",
    "            print(\"unicast class C\")\n",
    "        elif 224 <= first_octet <= 239:\n",
    "            print(\"multicast\")\n",
    "        else:\n",
    "            print(\"unused\")\n",
    "        break"
   ]
  }
 ],
 "metadata": {
  "kernelspec": {
   "display_name": "Python 3",
   "language": "python",
   "name": "python3"
  },
  "language_info": {
   "codemirror_mode": {
    "name": "ipython",
    "version": 3
   },
   "file_extension": ".py",
   "mimetype": "text/x-python",
   "name": "python",
   "nbconvert_exporter": "python",
   "pygments_lexer": "ipython3",
   "version": "3.11.3"
  },
  "orig_nbformat": 4
 },
 "nbformat": 4,
 "nbformat_minor": 2
}
