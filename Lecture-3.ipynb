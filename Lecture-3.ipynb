{
 "cells": [
  {
   "cell_type": "code",
   "execution_count": 1,
   "metadata": {},
   "outputs": [
    {
     "name": "stdout",
     "output_type": "stream",
     "text": [
      "ip nat inside source list ACL interface GigabitEthernet0/1 overload\n"
     ]
    }
   ],
   "source": [
    "#task 4.1\n",
    "nat = \"ip nat inside source list ACL interface FastEthernet0/1 overload\"\n",
    "new_nat = nat.replace(\"FastEthernet\", \"GigabitEthernet\")\n",
    "print(new_nat)\n",
    "\n",
    "#We replaced the occurrence of \"FastEthernet\" with \"GigabitEthernet\" in \n",
    "#the given string nat using the replace() method,\n",
    "#and then printed the modified string to the standard output."
   ]
  },
  {
   "cell_type": "code",
   "execution_count": 9,
   "metadata": {},
   "outputs": [
    {
     "name": "stdout",
     "output_type": "stream",
     "text": [
      "AAAA.BBBB.CCCC\n"
     ]
    }
   ],
   "source": [
    "#task 4.2\n",
    "mac = \"AAAA:BBBB:CCCC\"\n",
    "new_mac = mac.replace(\":\", \".\")\n",
    "print(new_mac)\n",
    "\n",
    "#We converted the MAC address from the format \"XXXX:XXXX:XXXX\" to \"XXXX.XXXX.XXXX\" by\n",
    "#replacing the colons (\":\") with periods (\".\") using the replace() method, \n",
    "#and then printed the new MAC address to the standard output."
   ]
  },
  {
   "cell_type": "code",
   "execution_count": 10,
   "metadata": {},
   "outputs": [
    {
     "name": "stdout",
     "output_type": "stream",
     "text": [
      "[1, 3, 10, 20, 30, 100]\n"
     ]
    }
   ],
   "source": [
    "#task 4.3\n",
    "config = \"switchport trunk allowed vlan 1,3,10,20,30,100\"\n",
    "vlan_list = config.split(\" \")[-1].split(\",\")\n",
    "result = [int(vlan) for vlan in vlan_list]\n",
    "print(result)\n",
    "\n",
    "#We extracted a list of VLAN numbers from the given string config. \n",
    "#By splitting the string and accessing the relevant portion, \n",
    "#we obtained a string containing VLAN numbers separated by commas.\n",
    "#We further split this string at commas to obtain individual VLANs. \n",
    "#Finally, we converted each VLAN from a string to an integer and \n",
    "#stored the resulting list in the result variable, which was printed to the standard output."
   ]
  },
  {
   "cell_type": "code",
   "execution_count": 11,
   "metadata": {},
   "outputs": [
    {
     "name": "stdout",
     "output_type": "stream",
     "text": [
      "[1, 2, 3, 4, 10, 20, 30, 100]\n"
     ]
    }
   ],
   "source": [
    "#task 4.4\n",
    "vlans = [10, 20, 30, 1, 2, 100, 10, 30, 3, 4, 10]\n",
    "\n",
    "result = sorted ( set (vlans) )\n",
    "print(result)\n"
   ]
  },
  {
   "cell_type": "code",
   "execution_count": 12,
   "metadata": {},
   "outputs": [
    {
     "name": "stdout",
     "output_type": "stream",
     "text": [
      "Prefix 10.0.24.0/24\n",
      "AD/Metric 110/41\n",
      "Next-Hop 10.0.13.3\n",
      "Last Update 3d18h\n",
      "Outbound Interface FastEthernet0/0\n"
     ]
    }
   ],
   "source": [
    "#task 4.6\n",
    "ospf_route = \" 10.0.24.0/24 [110/41] via 10.0.13.3, 3d18h, FastEthernet0/0\"\n",
    "tokens = ospf_route.split()\n",
    "#print(tokens)\n",
    "Prefix = tokens[0]\n",
    "#print(Prefix)\n",
    "Metric = tokens[1].strip(\"[]\")\n",
    "#print(Metric)\n",
    "NextHop = tokens[3].strip(\",\")\n",
    "#print(NextHop)\n",
    "LastUpdate = tokens[4].strip(\",\")\n",
    "#print(LastUpdate)\n",
    "OutboundInterface = tokens[5]\n",
    "#print(OutboundInterface)\n",
    "print(\"Prefix {}\".format(Prefix))\n",
    "print(\"AD/Metric {}\".format(Metric))\n",
    "print(\"Next-Hop {}\".format(NextHop))\n",
    "print(\"Last Update {}\".format(LastUpdate))\n",
    "print(\"Outbound Interface {}\".format(OutboundInterface))\n"
   ]
  },
  {
   "cell_type": "code",
   "execution_count": 15,
   "metadata": {},
   "outputs": [
    {
     "name": "stdout",
     "output_type": "stream",
     "text": [
      "AAAABBBBCCCC\n"
     ]
    },
    {
     "data": {
      "text/plain": [
       "'101010101010101010111011101110111100110011001100'"
      ]
     },
     "execution_count": 15,
     "metadata": {},
     "output_type": "execute_result"
    }
   ],
   "source": [
    "#task 4.7\n",
    "mac = \"AAAA:BBBB:CCCC\"\n",
    "mac1 = mac.replace(\":\", \"\")\n",
    "\n",
    "print(mac1)\n",
    "\"\".join(bin(int(x,16))[2:] for x in mac1)\n"
   ]
  },
  {
   "cell_type": "code",
   "execution_count": null,
   "metadata": {},
   "outputs": [],
   "source": [
    "ip = \"192.168.3.1\"\n",
    "tokens = ip.split(\".\")\n",
    "for t in tokens:\n",
    "    print(t, end=\"\\t\")\n",
    "print()\n",
    "for t in tokens"
   ]
  }
 ],
 "metadata": {
  "kernelspec": {
   "display_name": "base",
   "language": "python",
   "name": "python3"
  },
  "language_info": {
   "codemirror_mode": {
    "name": "ipython",
    "version": 3
   },
   "file_extension": ".py",
   "mimetype": "text/x-python",
   "name": "python",
   "nbconvert_exporter": "python",
   "pygments_lexer": "ipython3",
   "version": "3.10.9"
  },
  "orig_nbformat": 4
 },
 "nbformat": 4,
 "nbformat_minor": 2
}
